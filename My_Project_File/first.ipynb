{
 "cells": [
  {
   "cell_type": "code",
   "execution_count": null,
   "metadata": {},
   "outputs": [],
   "source": [
    "# Simple AI Chatbot Program\n",
    "# Initialize a dictionary of predefined responses\n",
    "chatbot_memory = {\n",
    "    \"what is your name\": \"I am ChatBot, your AI assistant.\",\n",
    "    \"how are you\": \"I am just a program, but I'm here to help you!\",\n",
    "    \"what do you do\": \"I assist with your queries and try to make your day better.\",\n",
    "    \"exit\": \"Goodbye! Have a nice day!\",\n",
    "}\n",
    "\n",
    "print(\"Welcome to the ChatBot! Type 'exit' to end the conversation.\")\n",
    "\n",
    "while True:\n",
    "    # Get user input\n",
    "    user_input = input(\"\\nYou: \").strip().lower()\n",
    "    \n",
    "    # Check if user wants to exit\n",
    "    if user_input == \"exit\":\n",
    "        print(\"ChatBot:\", chatbot_memory[\"exit\"])\n",
    "        break\n",
    "    \n",
    "    # Search for a response in memory\n",
    "    if user_input in chatbot_memory:\n",
    "        print(\"ChatBot:\", chatbot_memory[user_input])\n",
    "    else:\n",
    "        # If no response is found, learn the new question-response pair\n",
    "        print(\"ChatBot: I don't know how to respond to that.\")\n",
    "        new_response = input(\"Can you teach me how to respond? \").strip()\n",
    "        chatbot_memory[user_input] = new_response\n",
    "        print(\"ChatBot: Thank you! I've learned something new.\")\n",
    "\n",
    "# Display the chatbot's updated memory at the end of the session\n",
    "print(\"\\nUpdated ChatBot Memory:\")\n",
    "for question, response in chatbot_memory.items():\n",
    "    print(f\"Q: {question} -> A: {response}\")\n"
   ]
  },
  {
   "cell_type": "code",
   "execution_count": null,
   "metadata": {},
   "outputs": [],
   "source": []
  },
  {
   "cell_type": "code",
   "execution_count": null,
   "metadata": {},
   "outputs": [],
   "source": []
  },
  {
   "cell_type": "code",
   "execution_count": null,
   "metadata": {},
   "outputs": [],
   "source": []
  },
  {
   "cell_type": "code",
   "execution_count": null,
   "metadata": {},
   "outputs": [],
   "source": []
  }
 ],
 "metadata": {
  "kernelspec": {
   "display_name": "Python 3",
   "language": "python",
   "name": "python3"
  },
  "language_info": {
   "name": "python",
   "version": "3.12.7"
  }
 },
 "nbformat": 4,
 "nbformat_minor": 2
}
